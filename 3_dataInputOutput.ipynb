{
 "cells": [
  {
   "cell_type": "markdown",
   "metadata": {},
   "source": [
    "# Data input and output (I/O)\n",
    "MUSA 550 Geospatial Data Science in Python   \n",
    "Eric Delmelle (ericdel@upenn.edu)   \n",
    "Fall 2024   \n",
    " \n",
    "In this notebook, you will find exercises that will illustrate the concepts of file inputs/outputs.\n",
    "\n",
    "Oftetimes, we find ourselves in need to work with text files (could also be csv, excel, …). Here we will focus on text (txt) files, but maybe libraries exist to deal with csv or xls files.\n",
    "\n",
    "**Files can be accessed in the following modes:**\n",
    "- Read Only (‘r’)\n",
    "- Read and Write (‘r+’)\n",
    "- Write Only (‘w’)\n",
    "- Write and Read (‘w+’)\n",
    "- Append Only (‘a’)\n",
    "- Append and Read (‘a+’)"
   ]
  },
  {
   "cell_type": "markdown",
   "metadata": {},
   "source": [
    "### Opening a text file: `open()` function\n",
    "File_object = open(r\"File_Name\",\"Access_Mode\")"
   ]
  },
  {
   "cell_type": "code",
   "execution_count": null,
   "metadata": {},
   "outputs": [],
   "source": [
    "# Open function to open the file \"MyFile1.txt\"  \n",
    "# (same directory) in append mode and \n",
    "file1 = open(\"MyFile.txt\",\"a\") \n",
    "  \n",
    "# store its reference in the variable file1  \n",
    "# and \"MyFile2.txt\" in D:\\Text in file2 \n",
    "file2 = open(r\"data\\MyFile2.txt\",\"w+\") "
   ]
  },
  {
   "cell_type": "markdown",
   "metadata": {},
   "source": [
    "### Closing a text file: `close()` function\n",
    "File_object.close()"
   ]
  },
  {
   "cell_type": "code",
   "execution_count": 1,
   "metadata": {},
   "outputs": [],
   "source": [
    "# Opening and Closing a file \"MyFile.txt\" \n",
    "# for object name file1. \n",
    "file1 = open(\"MyFile.txt\",\"a\") \n",
    "file1.close() "
   ]
  },
  {
   "cell_type": "markdown",
   "metadata": {},
   "source": [
    "### Writing to a text file:\n",
    "- `write()` : Inserts the string str1 in a single line in the text file. File_object.write(str1)\n",
    "- `writelines()` : For a list of string elements, each string is inserted in the text file.Used to insert multiple strings at a single time."
   ]
  },
  {
   "cell_type": "code",
   "execution_count": null,
   "metadata": {},
   "outputs": [],
   "source": [
    "File_object.writelines(L) for L = [str1, str2, str3]"
   ]
  },
  {
   "cell_type": "markdown",
   "metadata": {},
   "source": [
    "### Reading from a file\n",
    "- `read()` : Returns the read bytes in form of a string.\n",
    "File_object.read([n])\n",
    "\n",
    "- `readline()` : Reads a line of the file and returns in form of a string.\n",
    "File_object.readline([n])\n",
    "\n",
    "- `readlines()` : Reads all the lines and return them as each line a string element in a list.File_object.readlines()\n",
    "You can also simply open the file, and print line by line"
   ]
  },
  {
   "cell_type": "code",
   "execution_count": null,
   "metadata": {},
   "outputs": [],
   "source": [
    "file1=open('myfile.txt', 'r')\n",
    "for i in file1:\n",
    "  print(i)"
   ]
  },
  {
   "cell_type": "markdown",
   "metadata": {},
   "source": [
    "## Examples:"
   ]
  },
  {
   "cell_type": "code",
   "execution_count": 2,
   "metadata": {},
   "outputs": [
    {
     "name": "stdout",
     "output_type": "stream",
     "text": [
      "Hello \n",
      "\n",
      "This is Delhi \n",
      "\n",
      "This is Paris \n",
      "\n",
      "This is London \n",
      "\n",
      "Output of Readlines after appending\n",
      "['This is Delhi \\n', 'This is Paris \\n', 'This is London \\n', 'Today \\n']\n"
     ]
    }
   ],
   "source": [
    "# script to show how to write to a file\n",
    "file1 = open(\"myfile.txt\",\"w\") \n",
    "L = [\"This is Delhi \\n\",\"This is Paris \\n\",\"This is London \\n\"]  \n",
    "  \n",
    "# \\n is placed to indicate EOL (End of Line) \n",
    "file1.write(\"Hello \\n\") \n",
    "file1.writelines(L) \n",
    "file1.close() #to change file access modes "
   ]
  },
  {
   "cell_type": "code",
   "execution_count": null,
   "metadata": {},
   "outputs": [],
   "source": [
    "# Program to show how to write to a file\n",
    "file1=open('myfile.txt', 'r')\n",
    "for i in file1:\n",
    "  print(i)"
   ]
  },
  {
   "cell_type": "code",
   "execution_count": null,
   "metadata": {},
   "outputs": [],
   "source": [
    "# Append-adds at last\n",
    "file1 = open(\"myfile.txt\",\"a\")#append mode\n",
    "file1.write(\"Today \\n\")\n",
    "file1.close()\n",
    "  \n",
    "file1 = open(\"myfile.txt\",\"r\")\n",
    "print (\"Output of Readlines after appending\")\n",
    "print (file1.readlines())\n",
    "print\n",
    "file1.close()"
   ]
  },
  {
   "cell_type": "markdown",
   "metadata": {},
   "source": [
    "## Exercises"
   ]
  },
  {
   "cell_type": "markdown",
   "metadata": {},
   "source": [
    "*(2-3min)* Write a code that will ask the first name, last name of an individual and their address, and will write this information to a text file, something like this:\n",
    "\n",
    "Eric Delmelle \n",
    "\n",
    "333 McEniry Hall \n",
    "\n",
    "Charlotte, NC 28223"
   ]
  },
  {
   "cell_type": "code",
   "execution_count": 4,
   "metadata": {},
   "outputs": [],
   "source": [
    "file1 = open('myfile.txt', 'w')\n",
    "L = ['Eric Delmelle\\n', '333 McEniry Hall\\n', 'Charlotte, NC 28223\\n']\n",
    "file1.writelines(L)\n",
    "file1.close()"
   ]
  },
  {
   "cell_type": "markdown",
   "metadata": {},
   "source": [
    "*(2min)* Write a code that will generate 100 random numbers between 0 and 100, and write them to a textfile, called \"randomNumbers.txt\". \n",
    "You will need to use the `random` package and the `random.randint`(0,100) function"
   ]
  },
  {
   "cell_type": "code",
   "execution_count": 14,
   "metadata": {},
   "outputs": [],
   "source": [
    "import random\n",
    "file1 = open('randomNumbers.txt', 'w')\n",
    "for i in range(0,100,1):\n",
    " file1.write(str(random.randint(0,100))+'\\n')\n",
    "file1.close()"
   ]
  },
  {
   "cell_type": "markdown",
   "metadata": {},
   "source": [
    "*(1-2min)* Using the \"randomNumbers0_100.txt\" file you just created, report on the screen how many instances (out of 100) are above 30. Be careful, you may need to strip() each line of the character ‘\\t’ or '\\n'"
   ]
  },
  {
   "cell_type": "code",
   "execution_count": 15,
   "metadata": {},
   "outputs": [
    {
     "name": "stdout",
     "output_type": "stream",
     "text": [
      "there are 67 instances > 30\n"
     ]
    }
   ],
   "source": [
    "file1 = open('randomNumbers.txt', 'r')\n",
    "counter=0\n",
    "for i in file1:\n",
    " if int(i)>30:\n",
    "#   print(i)\n",
    "   counter+=1\n",
    "print('there are '+str(counter) +' instances > 30')\n",
    "file1.close()"
   ]
  },
  {
   "cell_type": "markdown",
   "metadata": {},
   "source": [
    "**Challenge**: create a text file with randomly generated celsius temperatures, open it, read line by line, convert to farenheit, and save to another text file."
   ]
  },
  {
   "cell_type": "markdown",
   "metadata": {},
   "source": [
    "## Working with text files, \"treeD.txt\" & \"rdu_forest.txt\"\n",
    "Both files have information on tree characteristics."
   ]
  },
  {
   "cell_type": "markdown",
   "metadata": {},
   "source": [
    "*(2-3min)* For the file \"treeD.txt\" - which contains tree diameters, (1) read and print line by\n",
    "line, (2) append in a new list"
   ]
  },
  {
   "cell_type": "code",
   "execution_count": 12,
   "metadata": {},
   "outputs": [],
   "source": [
    "file1 = open(\"data/treeD.txt\", 'r')\n",
    "for i in file1:\n",
    " print(i)\n",
    "file1.close()"
   ]
  },
  {
   "cell_type": "markdown",
   "metadata": {},
   "source": [
    "*(2-3min)*  For the file \"treeD.txt\" - which contains tree diameters, (1) read and print line by line, (2) append in a new list if the diameter than 30’"
   ]
  },
  {
   "cell_type": "code",
   "execution_count": null,
   "metadata": {},
   "outputs": [],
   "source": [
    "file1 = open(\"threeD.txt\",\"r\")\n",
    "newList = []\n",
    "for i in file1:\n",
    "  j = i.strip(\"\\n\")\n",
    "  if int(j) > 30:\n",
    "    newList.append(j)\n",
    "file1.close()\n",
    "print(newList)"
   ]
  }
 ],
 "metadata": {
  "kernelspec": {
   "display_name": "Python 3 (ipykernel)",
   "language": "python",
   "name": "python3"
  },
  "language_info": {
   "codemirror_mode": {
    "name": "ipython",
    "version": 3
   },
   "file_extension": ".py",
   "mimetype": "text/x-python",
   "name": "python",
   "nbconvert_exporter": "python",
   "pygments_lexer": "ipython3",
   "version": "3.10.12"
  }
 },
 "nbformat": 4,
 "nbformat_minor": 4
}
