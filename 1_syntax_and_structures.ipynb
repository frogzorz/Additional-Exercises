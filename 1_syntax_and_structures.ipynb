{
 "cells": [
  {
   "cell_type": "markdown",
   "metadata": {},
   "source": [
    "# Python syntax and data structures primer\n",
    "MUSA 0550 Geospatial Data Science in Python   \n",
    "Anna Duan (annaduan@sas.upenn.edu)   \n",
    "Fall 2024   \n",
    " \n",
    " \n",
    "This Jupyter Notebook serves as an introduction to basic Python concepts including data types, logical statements, lists, dictionaries, and variables. \n",
    "\n",
    "References: \n",
    "- Python for Data Analysis, Wes McKinney 2022\n",
    "- https://musa-550-fall-2023.github.io/ Nick Hand 2023"
   ]
  },
  {
   "cell_type": "markdown",
   "metadata": {},
   "source": [
    "## Libraries \n",
    "Libraries in Python are pre-written collections of code that provide a wide range of functionality to simplify and expedite the development process.\n",
    "\n",
    "Today, we will be using the `Pandas` library to illustrate basic data types and manipulations. "
   ]
  },
  {
   "cell_type": "code",
   "execution_count": 8,
   "metadata": {},
   "outputs": [],
   "source": [
    "import pandas as pd"
   ]
  },
  {
   "cell_type": "markdown",
   "metadata": {},
   "source": [
    "## Numeric data"
   ]
  },
  {
   "cell_type": "markdown",
   "metadata": {},
   "source": [
    "In Python, numeric data types are used to represent numbers. There are three main numeric data types in Python:\n",
    "- int: represents integer values, such as 1, 2, -3, etc.\n",
    "- float: represents floating-point values, such as 3.14, -0.5, etc. \n",
    "\n",
    "Note also the use a an f-string, or formatted string literal below. F-strings allow you to embed values or expressions within a string, or a piece of text."
   ]
  },
  {
   "cell_type": "code",
   "execution_count": 24,
   "metadata": {},
   "outputs": [
    {
     "name": "stdout",
     "output_type": "stream",
     "text": [
      "this is an int: 1\n",
      "this is a float: 1.5\n"
     ]
    }
   ],
   "source": [
    "# int\n",
    "print(f\"this is an int: {1}\")\n",
    "\n",
    "# float\n",
    "print(f\"this is a float: {1.5}\")"
   ]
  },
  {
   "cell_type": "markdown",
   "metadata": {},
   "source": [
    "Operations like addition (+), subtraction (-), division (/), and multiplication (*) in Python work just how we would expect from math class."
   ]
  },
  {
   "cell_type": "code",
   "execution_count": 48,
   "metadata": {},
   "outputs": [
    {
     "name": "stdout",
     "output_type": "stream",
     "text": [
      "1 + 3 = 4\n",
      "1 - 3 = -2\n",
      "1 * 3 = 3\n",
      "1 / 3 = 0.3333333333333333\n"
     ]
    }
   ],
   "source": [
    "# addition of two ints\n",
    "print(f\"1 + 3 =\", 1 + 3)\n",
    "\n",
    "# subtraction of two ints\n",
    "print(f\"1 - 3 =\", 1 - 3)\n",
    "\n",
    "# multiplication of two ints\n",
    "print(f\"1 * 3 =\", 1 * 3)\n",
    "\n",
    "# division of two ints\n",
    "print(f\"1 / 3 =\", 1 / 3)"
   ]
  },
  {
   "cell_type": "markdown",
   "metadata": {},
   "source": [
    "Other operations such as round() and abs() are unique to programming."
   ]
  },
  {
   "cell_type": "code",
   "execution_count": 50,
   "metadata": {},
   "outputs": [
    {
     "name": "stdout",
     "output_type": "stream",
     "text": [
      "abs(-1) = 1\n",
      "round(0.33333, 2) = 0.33\n",
      "round(0.33333) = 0\n"
     ]
    }
   ],
   "source": [
    "# absolute value of an int\n",
    "print(f\"abs(-1) =\", abs(-1))\n",
    "\n",
    "# round a float to 2 decimal places\n",
    "print(f\"round(0.33333, 2) =\", round(0.33333, 2))\n",
    "\n",
    "# round a float to 0 decimal places\n",
    "print(f\"round(0.33333) =\", round(0.33333))"
   ]
  },
  {
   "cell_type": "markdown",
   "metadata": {},
   "source": [
    "## Strings  \n",
    "Strings (`str`) are used to represent text in Python. They are enclosed in single quotes ('') or double quotes (\"\") and can contain alphanumeric characters, symbols, and whitespace."
   ]
  },
  {
   "cell_type": "code",
   "execution_count": 39,
   "metadata": {},
   "outputs": [
    {
     "name": "stdout",
     "output_type": "stream",
     "text": [
      "this is a char: a\n",
      "this is a string: hello\n",
      "this is a also string: 1\n",
      "You can concatenate -or combine- strings: hello world\n"
     ]
    }
   ],
   "source": [
    "# char \n",
    "print(f\"this is a char: {'a'}\")\n",
    "\n",
    "# string\n",
    "print(f\"this is a string: {'hello'}\")\n",
    "\n",
    "# numbers can also be strings if they are in quotes!\n",
    "print(f\"this is a also string: {'1'}\")\n",
    "\n",
    "# string concatenation\n",
    "print(f\"You can concatenate -or combine- strings: {'hello' + ' world'}\")"
   ]
  },
  {
   "cell_type": "markdown",
   "metadata": {},
   "source": [
    "## Booleans\n",
    "Booleans are a fundamental data type in programming that represent two possible values: True and False. In programming, booleans are often used to make decisions or control the flow of a program. \n",
    "\n",
    "These will be useful later on for conditional statements, but for now, let's take a look at how they work. Note than when we evaluate two values for equality, we use two equal signs `==` instead of just one."
   ]
  },
  {
   "cell_type": "code",
   "execution_count": 40,
   "metadata": {},
   "outputs": [
    {
     "name": "stdout",
     "output_type": "stream",
     "text": [
      "bool(1 + 2 == 5): False\n",
      "'po' + 'tato' == 'potato': True\n"
     ]
    }
   ],
   "source": [
    "# False\n",
    "print(f\"bool(1 + 2 == 5):\", 1 + 2 == 5)\n",
    "\n",
    "# True\n",
    "print(f\"'po' + 'tato' == 'potato':\", 'po' + 'tato' == 'potato')"
   ]
  },
  {
   "cell_type": "markdown",
   "metadata": {},
   "source": [
    "## Lists\n",
    "Lists are a fundamental data structure in Python that allow you to store and manipulate collections of items. They can include a variety of data types, such as integers, strings, or even other lists. Lists has indices, with which you can access and modify their contents.\n",
    "\n",
    "Note that Python uses zero indexing, meaning the index for the first item in a list is 0, not 1."
   ]
  },
  {
   "cell_type": "code",
   "execution_count": 47,
   "metadata": {},
   "outputs": [
    {
     "name": "stdout",
     "output_type": "stream",
     "text": [
      "this is a list of ints: [0, 1, 2, 3, 4]\n",
      "this is a list of floats: [1.0, 2.0, 3.0]\n",
      "this is a list of strings: ['hello', 'world']\n",
      "Access the first item in this list [1, 2, 3][0]: 1\n"
     ]
    }
   ],
   "source": [
    "# list of ints\n",
    "print(f\"this is a list of ints: {list(range(5))}\")\n",
    "\n",
    "# list of floats\n",
    "print(f\"this is a list of floats: {[1.0, 2.0, 3.0]}\")\n",
    "\n",
    "# list of strings\n",
    "print(f\"this is a list of strings: {['hello', 'world']}\")\n",
    "\n",
    "# accessing items in a list\n",
    "print(f\"Access the first item in this list [1, 2, 3][0]:\", [1, 2, 3][0])"
   ]
  }
 ],
 "metadata": {
  "kernelspec": {
   "display_name": "Python 3 (ipykernel)",
   "language": "python",
   "name": "python3"
  },
  "language_info": {
   "codemirror_mode": {
    "name": "ipython",
    "version": 3
   },
   "file_extension": ".py",
   "mimetype": "text/x-python",
   "name": "python",
   "nbconvert_exporter": "python",
   "pygments_lexer": "ipython3",
   "version": "3.10.12"
  }
 },
 "nbformat": 4,
 "nbformat_minor": 4
}
